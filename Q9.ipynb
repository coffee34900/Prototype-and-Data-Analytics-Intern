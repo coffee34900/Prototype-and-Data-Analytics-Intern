{
 "cells": [
  {
   "cell_type": "markdown",
   "id": "3ad80d8b",
   "metadata": {},
   "source": [
    "This code first loads the given database into a Pandas DataFrame.\n",
    "It then defines a regular expression pattern to match the desired URL pattern,\n",
    "and a function to extract the URLs per device type using the Pandas DataFrame methods.\n",
    "The function filters the DataFrame by the device type, applies the regular expression pattern \n",
    "to the Stats_Access_Link column, removes any duplicates, and returns the result.\n",
    "Finally, the code demonstrates an example usage of the function to extract the URLs for the device type \"AXO145\"."
   ]
  },
  {
   "cell_type": "code",
   "execution_count": null,
   "id": "af07e2e5",
   "metadata": {},
   "outputs": [],
   "source": [
    "#Sample code\n",
    "\n",
    "import pandas as pd\n",
    "import re\n",
    "\n",
    "df = pd.read_csv('sample_database.csv')\n",
    "\n",
    "# Define the regular expression pattern\n",
    "\n",
    "pattern = re.compile(r'<url>(?:[a-z0-9]+:\\/\\/)?([a-z0-9_\\.]+)<\\/url>', re.IGNORECASE)\n",
    "\n",
    "# Define a function to extract the URL information per device type\n",
    "\n",
    "def extract_urls_per_device_type(device_type):\n",
    "\n",
    "    filtered_df = df[df['Device_Type'] == device_type]\n",
    "\n",
    "    urls = filtered_df['Stats_Access_Link'].str.extract(pattern)[0]\n",
    "    return urls.drop_duplicates()\n",
    "\n",
    "urls_axo145 = extract_urls_per_device_type('AXO145')\n",
    "print(urls_axo145)"
   ]
  }
 ],
 "metadata": {
  "kernelspec": {
   "display_name": "Python 3 (ipykernel)",
   "language": "python",
   "name": "python3"
  },
  "language_info": {
   "codemirror_mode": {
    "name": "ipython",
    "version": 3
   },
   "file_extension": ".py",
   "mimetype": "text/x-python",
   "name": "python",
   "nbconvert_exporter": "python",
   "pygments_lexer": "ipython3",
   "version": "3.9.12"
  }
 },
 "nbformat": 4,
 "nbformat_minor": 5
}
