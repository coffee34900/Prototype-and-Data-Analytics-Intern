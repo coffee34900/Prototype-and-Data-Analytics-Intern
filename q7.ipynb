{
 "cells": [
  {
   "cell_type": "markdown",
   "id": "07b2ec2b",
   "metadata": {},
   "source": [
    "# Q7"
   ]
  },
  {
   "cell_type": "code",
   "execution_count": 52,
   "id": "0eed78d7",
   "metadata": {},
   "outputs": [],
   "source": [
    "import pandas as pd\n",
    "\n",
    "df = pd.read_csv(\"new_country_vacination.csv\")"
   ]
  },
  {
   "cell_type": "code",
   "execution_count": 53,
   "id": "b5a83e2e",
   "metadata": {},
   "outputs": [
    {
     "data": {
      "text/plain": [
       "date\n",
       "False    61724068.0\n",
       "True      1485255.0\n",
       "Name: daily_vaccinations, dtype: float64"
      ]
     },
     "execution_count": 53,
     "metadata": {},
     "output_type": "execute_result"
    }
   ],
   "source": [
    "date1 = \"1/6/2021\" #(MM/DD/YYYY) \n",
    "a = df.groupby(df['date'] == date1)['daily_vaccinations'].sum()\n",
    "a"
   ]
  },
  {
   "cell_type": "code",
   "execution_count": 54,
   "id": "d265e522",
   "metadata": {},
   "outputs": [
    {
     "name": "stdout",
     "output_type": "stream",
     "text": [
      "1485255.0\n"
     ]
    }
   ],
   "source": [
    "#Just to double check .:D\n",
    "\n",
    "b=df['date'] == date1\n",
    "if b.any():\n",
    "    rows = df[b]\n",
    "    values = rows['daily_vaccinations'].sum()\n",
    "    print(values)"
   ]
  }
 ],
 "metadata": {
  "kernelspec": {
   "display_name": "Python 3 (ipykernel)",
   "language": "python",
   "name": "python3"
  },
  "language_info": {
   "codemirror_mode": {
    "name": "ipython",
    "version": 3
   },
   "file_extension": ".py",
   "mimetype": "text/x-python",
   "name": "python",
   "nbconvert_exporter": "python",
   "pygments_lexer": "ipython3",
   "version": "3.9.12"
  }
 },
 "nbformat": 4,
 "nbformat_minor": 5
}
